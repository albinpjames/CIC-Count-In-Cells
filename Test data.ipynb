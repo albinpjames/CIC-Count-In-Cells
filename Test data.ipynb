{
 "cells": [
  {
   "cell_type": "code",
   "execution_count": 1,
   "metadata": {},
   "outputs": [
    {
     "name": "stdout",
     "output_type": "stream",
     "text": [
      "3.000\n",
      "Status: Reading the files\n",
      "Procesing file 0\n",
      "Converting mass\n",
      "Number of halos = 3346751\n",
      "Extracting Position Info\n"
     ]
    }
   ],
   "source": [
    "import numpy as np\n",
    "from abacusnbody.data.compaso_halo_catalog import CompaSOHaloCatalog\n",
    "\n",
    "from datetime import datetime\n",
    "\n",
    "now = datetime.now()\n",
    "timestamp = now.strftime(\"%d/%m/%Y %H:%M:%S\")\n",
    "#timestamp = datetime.isoformat(now)\n",
    "\n",
    "'''Redshifts to be computed'''\n",
    "#redshifts = [\"3.000\",\"2.000\",\"1.100\",\"0.500\",\"0.200\"]\n",
    "redshifts = [\"3.000\"]\n",
    "\n",
    "'''Prameters from the simulation'''\n",
    "#type, cosmo, intcont, boxsize, sf, ef = 'base', 'c000', 'ph000',2000, 0, 33\n",
    "type, cosmo, intcont, boxsize, sf, ef = 'small', 'c000', 'ph3000', 500, 0, 0\n",
    "\n",
    "'''Filename to save'''\n",
    "filename = str(boxsize) + \"HMpc \" + cosmo + ' ' + intcont + ' ' + str(timestamp)\n",
    "\n",
    "#size, cutsides = 2000, ['40','80','100']\n",
    "size, cutsides = 50, ['5']\n",
    "\n",
    "mass = 2.109081520453063*10**9\n",
    "totalvolume = size**3\n",
    "totalbins = 50\n",
    "\n",
    "def readdata(clm1, clm2, redshift):\n",
    "   print(\"Reading the data\")\n",
    "\n",
    "   file = str('AbacusSummit Public Data Access/AbacusSummit_' + type + '_' + cosmo +'_' + intcont + '/halos/z' + redshift + '/halo_info/')\n",
    "   cat = CompaSOHaloCatalog(file,cleaned=False)\n",
    "   data1 = np.array(cat.halos[clm1])\n",
    "   data2 = np.array(cat.halos[clm2])\n",
    "   del cat\n",
    "   return data1, data2   \n",
    " \n",
    "\n",
    "def onebyone(clm1, clm2, redshift):\n",
    "   print(\"Status: Reading the files\")\n",
    "   \n",
    "   global halo_mass\n",
    "   data1 = []\n",
    "   data2 = []\n",
    "   for i in range(sf,ef+1): \n",
    "      print(\"Procesing file\", i)\n",
    "      if i < 10:\n",
    "         file = str('AbacusSummit Public Data Access/AbacusSummit_' + type + '_' + cosmo +'_' + intcont + '/halos/z' + redshift + '/halo_info/halo_info_00' + str(i) + '.asdf')\n",
    "      else:   \n",
    "         file = str('AbacusSummit Public Data Access/AbacusSummit_' + type + '_' + cosmo +'_' + intcont + '/halos/z' + redshift +  '/halo_info/halo_info_0' + str(i) + '.asdf')\n",
    "      cat = CompaSOHaloCatalog(file, cleaned=False)\n",
    "\n",
    "      num_halos = len(cat.halos)\n",
    "      num = np.array(cat.halos[clm1])\n",
    "      for i in range (num_halos):\n",
    "         data1.append(num[i])\n",
    "\n",
    "      num_hpos = len(cat.halos)\n",
    "      num = np.array(cat.halos[clm2])\n",
    "      for i in range (num_hpos):\n",
    "         data2.append(num[i])\n",
    "\n",
    "      del cat\n",
    "   \n",
    "   return data1, data2\n",
    "\n",
    "def convertmass(mass,N):\n",
    "   print(\"Converting mass\")\n",
    "   global num_halos, halo_mass\n",
    "   halo_mass = []\n",
    "   num_halos = len(N)\n",
    "   for i in range (num_halos):\n",
    "      halo_mass.append(N[i]*mass)\n",
    "\n",
    "   total_num_halos = len(halo_mass)\n",
    "   print(\"Number of halos =\", total_num_halos)\n",
    "   del N\n",
    "   return halo_mass\n",
    "\n",
    "\n",
    "for redshift in redshifts:\n",
    "   print(redshift)\n",
    "   #Extarct mass and position\n",
    "\n",
    "   N, pos = onebyone('N','SO_central_particle', redshift)\n",
    "   halo_mass = convertmass(mass,N)\n",
    "   del N\n",
    "\n",
    "   print(\"Extracting Position Info\")\n",
    "   halo_pos=[]\n",
    "   for i in range(len(pos)):\n",
    "      halo_pos.append(list(pos[i]))\n",
    "   halo_pos=np.array(halo_pos)"
   ]
  },
  {
   "cell_type": "code",
   "execution_count": 2,
   "metadata": {},
   "outputs": [
    {
     "data": {
      "text/plain": [
       "array([[-248.8035 , -248.8469 , -246.50351],\n",
       "       [-249.50133, -249.87704, -202.84366],\n",
       "       [-249.54892, -249.02567, -201.26476],\n",
       "       ...,\n",
       "       [ 249.37628,  249.85379,  156.36252],\n",
       "       [ 249.337  ,  249.18674,  156.48038],\n",
       "       [ 249.47797,  249.49722,  185.79279]], dtype=float32)"
      ]
     },
     "execution_count": 2,
     "metadata": {},
     "output_type": "execute_result"
    }
   ],
   "source": [
    "halo_pos"
   ]
  },
  {
   "cell_type": "code",
   "execution_count": 4,
   "metadata": {},
   "outputs": [],
   "source": [
    "halo_mass = np.array(halo_mass)"
   ]
  },
  {
   "cell_type": "code",
   "execution_count": 10,
   "metadata": {},
   "outputs": [],
   "source": [
    "halo_mass=halo_mass.reshape(halo_mass.shape[0],-1)"
   ]
  },
  {
   "cell_type": "code",
   "execution_count": 11,
   "metadata": {},
   "outputs": [],
   "source": [
    "data = np.hstack((halo_mass,halo_pos))"
   ]
  },
  {
   "cell_type": "code",
   "execution_count": 1,
   "metadata": {},
   "outputs": [],
   "source": [
    "import os\n",
    "homedir = os.path.expanduser(\"~\")"
   ]
  },
  {
   "cell_type": "code",
   "execution_count": 2,
   "metadata": {},
   "outputs": [
    {
     "data": {
      "text/plain": [
       "'/home/albinpjames'"
      ]
     },
     "execution_count": 2,
     "metadata": {},
     "output_type": "execute_result"
    }
   ],
   "source": [
    "homedir"
   ]
  },
  {
   "cell_type": "code",
   "execution_count": null,
   "metadata": {},
   "outputs": [],
   "source": []
  }
 ],
 "metadata": {
  "kernelspec": {
   "display_name": "Python 3.9.7 ('base')",
   "language": "python",
   "name": "python3"
  },
  "language_info": {
   "codemirror_mode": {
    "name": "ipython",
    "version": 3
   },
   "file_extension": ".py",
   "mimetype": "text/x-python",
   "name": "python",
   "nbconvert_exporter": "python",
   "pygments_lexer": "ipython3",
   "version": "3.9.7"
  },
  "orig_nbformat": 4,
  "vscode": {
   "interpreter": {
    "hash": "44ca10f8e85facd70a8d6e25a789dd395faa8ff051c37c4f4ab4ea8a6be2a103"
   }
  }
 },
 "nbformat": 4,
 "nbformat_minor": 2
}
