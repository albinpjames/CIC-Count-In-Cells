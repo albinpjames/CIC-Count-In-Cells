{
 "cells": [
  {
   "cell_type": "code",
   "execution_count": 1,
   "metadata": {},
   "outputs": [],
   "source": [
    "from abacusnbody.data.compaso_halo_catalog import CompaSOHaloCatalog\n",
    "from hmf import MassFunction\n",
    "from astropy.cosmology import Planck18\n",
    "import matplotlib.pyplot as plt  \n",
    "import numpy as np"
   ]
  },
  {
   "cell_type": "code",
   "execution_count": 8,
   "metadata": {},
   "outputs": [
    {
     "name": "stdout",
     "output_type": "stream",
     "text": [
      "3.000\n"
     ]
    }
   ],
   "source": [
    "global type, cosmo, IC, redshift, mass, volume, startfile, endfile\n",
    "type = 'small'\n",
    "cosmo = 'c000'\n",
    "IC = 'ph3000'\n",
    "redshift = '3.000'\n",
    "print(redshift)\n",
    "mass = 2*10**9\n",
    "volume = 500**3\n",
    "startfile = 0\n",
    "endfile = 0"
   ]
  },
  {
   "cell_type": "code",
   "execution_count": 10,
   "metadata": {},
   "outputs": [],
   "source": [
    "# Mass function from hmfcalc\n",
    "def hmfcalc():\n",
    "   global redshift\n",
    "   redshift = float(redshift)\n",
    "   global hmf\n",
    "   hmf = MassFunction(cosmo_model=Planck18, z=redshift)"
   ]
  },
  {
   "cell_type": "code",
   "execution_count": 20,
   "metadata": {},
   "outputs": [],
   "source": [
    "# Check for corrupt files\n",
    "def filecheck():\n",
    "   global redshift\n",
    "   redshift = float(redshift)\n",
    "   a = []\n",
    "   for i in range(start,end): \n",
    "      if i < 10:\n",
    "          a.append(str(path + redshift + '/halo_info/halo_info_00' + str(i) + '.asdf'))\n",
    "      else:   \n",
    "          a.append(str(path + redshift + '/halo_info/halo_info_0' + str(i) + '.asdf'))\n",
    "   print (a)\n",
    "\n",
    "   cat = CompaSOHaloCatalog(a)"
   ]
  },
  {
   "cell_type": "code",
   "execution_count": 4,
   "metadata": {},
   "outputs": [],
   "source": [
    "#Calculate volume of data used\n",
    "def newvloume():\n",
    "   global newvolume\n",
    "   newcvolume = volume*((endfile-startfile)/33)\n",
    "   "
   ]
  },
  {
   "cell_type": "code",
   "execution_count": 5,
   "metadata": {},
   "outputs": [],
   "source": [
    "# Load files and calculate halo mass together, here all files are loaded at once and mass calulated together\n",
    "def loadfilesall():\n",
    "   print(\"redshift =\",redshift)\n",
    "   print(\"Status: Reading the files\")\n",
    "   cat = CompaSOHaloCatalog(path + redshift + '/halo_info/',cleaned=False)\n",
    "\n",
    "   total_num_halos = len(cat.halos)\n",
    "   print(\"Number of halos =\", total_num_halos)\n",
    "\n",
    "   print(\"Status: Calculating the mass of halos\")\n",
    "   \n",
    "   num = np.array(cat.halos['N'])\n",
    "   global halo_mass\n",
    "   halo_mass = []\n",
    "   for i in range (total_num_halos):\n",
    "      halo_mass.append(num[i]*mass)"
   ]
  },
  {
   "cell_type": "code",
   "execution_count": 6,
   "metadata": {},
   "outputs": [],
   "source": [
    "def onebyone():\n",
    "   print(\"redshift =\",redshift)\n",
    "   print(\"Status: Reading the files\")\n",
    "   \n",
    "   global halo_mass\n",
    "   halo_mass = []\n",
    "   for i in range(startfile,endfile+1): \n",
    "      print(\"Procesing file\", i)\n",
    "      if i < 10:\n",
    "         file = str('AbacusSummit Public Data Access/AbacusSummit_' + type + '_' + cosmo +'_' + IC + '/halos/z' + redshift + '/halo_info/halo_info_00' + str(i) + '.asdf')\n",
    "      else:   \n",
    "         file = str('AbacusSummit Public Data Access/AbacusSummit_' + type + '_' + cosmo +'_' + IC + '/halos/z' + redshift +  '/halo_info/halo_info_0' + str(i) + '.asdf')\n",
    "      cat = CompaSOHaloCatalog(file, cleaned=False)\n",
    "      num_halos = len(cat.halos)\n",
    "      num = np.array(cat.halos['N'])\n",
    "      for i in range (num_halos):\n",
    "         halo_mass.append(num[i]*mass)\n",
    "      del cat\n",
    "   \n",
    "   total_num_halos = len(halo_mass)\n",
    "   print(\"Number of halos =\", total_num_halos)\n"
   ]
  },
  {
   "cell_type": "code",
   "execution_count": 15,
   "metadata": {},
   "outputs": [
    {
     "name": "stdout",
     "output_type": "stream",
     "text": [
      "3.0\n"
     ]
    }
   ],
   "source": [
    "# Calculating hmf dndlnm\n",
    "def plt_hmf_dndlnm():\n",
    "    print(\"Status: Calculating height and with of mass histogarm\")\n",
    "    hght, binedge = np.histogram(halo_mass, bins=np.logspace(np.log10(0.5*10**11),np.log10(0.5*10**13), 50))\n",
    "\n",
    "    print(\"Status: Calculating the mass function\")\n",
    "    bin_centers = []\n",
    "    for i in range (len(binedge)-1):\n",
    "        bin_centers.append(np.sqrt(binedge[i+1]*binedge[i]))\n",
    "\n",
    "    binsize = []\n",
    "    for i in range (len(binedge)-1):\n",
    "        binsize.append(binedge[i+1]-binedge[i])\n",
    "\n",
    "    newhght = []\n",
    "    for i in range(len(hght)):              \n",
    "        newhght.append(hght[i]/((binsize[i]/bin_centers[i])*volume))\n",
    "\n",
    "    #error=np.sqrt(newhght)\n",
    "    #hght = hght/binedge\n",
    "    \n",
    "    plt.figure(figsize=(10,10))\n",
    "    plt.scatter(bin_centers,newhght,s=10)\n",
    "    plt.loglog(hmf.m,hmf.dndlnm)\n",
    "    #plt.errorbar(bin_centers, newhght, yerr=error)\n",
    "    plt.title(redshift +' dn_Vdlnm')\n",
    "    plt.xlabel(\"$m$\")\n",
    "    plt.ylabel(\"$\\dfrac{dn}{Vdlnm}$\")\n",
    "    plt.xscale('log')\n",
    "    plt.yscale('log')\n",
    "    plt.xlim((0.5*10**11,10**13))\n",
    "    plt.ylim((0.5*10**-11,10**-2))\n",
    "    plt.savefig(redshift +'_dn_Vdlnm_'+ str(startfile) + '_' + str(endfile) + \"_hmf.jpg\")"
   ]
  },
  {
   "cell_type": "code",
   "execution_count": null,
   "metadata": {},
   "outputs": [],
   "source": [
    "f, (a0, a1) = plt.subplots(2, 1, gridspec_kw={'height_ratios': [2, 1]},figsize=(20,20))\n",
    "# Calculating hmf dndlnm and error\n",
    "def plt_hmf_dndlnm():\n",
    "   print(\"Status: Calculating height and with of mass histogarm\")\n",
    "   hght, binedge = np.histogram(halo_mass, bins=np.logspace(np.log10(0.5*10**11),np.log10(0.5*10**13), 50))\n",
    "\n",
    "   print(\"Status: Calculating the mass function\")\n",
    "   bin_centers = []\n",
    "   for i in range (len(binedge)-1):\n",
    "      bin_centers.append(np.sqrt(binedge[i+1]*binedge[i]))\n",
    "\n",
    "   binsize = []\n",
    "   for i in range (len(binedge)-1):\n",
    "      binsize.append(binedge[i+1]-binedge[i])\n",
    "\n",
    "   newhght = []\n",
    "   for i in range(len(hght)):              \n",
    "      newhght.append(hght[i]/((binsize[i]/bin_centers[i])*volume))\n",
    "\n",
    "   newhmf = np.interp(bin_centers,hmf.m,hmf.dndlnm)\n",
    "   error = ((newhmf-newhght)/newhmf)*100\n",
    "   print (error)\n",
    "\n",
    "   #f.tight_layout()\n",
    "\n",
    "   #fig, ax = plt.subplots(figsize=(15,10))\n",
    "   #a0 = plt.subplot2grid((3,3), (0, 0))\n",
    "   #a1 = plt.subplot2grid((3,3), (1, 0))\n",
    "\n",
    "   a0.scatter(bin_centers,newhght,s=10)\n",
    "   a0.loglog(hmf.m,hmf.dndlnm)\n",
    "\n",
    "   a0.set_title(redshift + ' ' + type + ' ' + cosmo + ' ' + IC +'_dn_Vdlnm & Error')\n",
    "   a0.set_xlabel(\"Mass\")\n",
    "   a0.set_ylabel(\"$\\dfrac{dn}{Vdlnm}$\")\n",
    "   a0.set_xscale('log')\n",
    "   a0.set_yscale('log')\n",
    "   a0.set_xlim((0.5*10**11,10**13))\n",
    "   a0.set_ylim((0.5*10**-6,10**-1))\n",
    "\n",
    "\n",
    "   a1.plot(bin_centers,error)\n",
    "   a1.set_xlabel(\"Mass\")\n",
    "   a1.set_xscale('log')\n",
    "   a1.set_ylabel(\"Percentage Error\")\n",
    "   a1.set_ylim((-100,100))"
   ]
  },
  {
   "cell_type": "code",
   "execution_count": 11,
   "metadata": {},
   "outputs": [],
   "source": [
    "# Calculating hmf dndm\n",
    "def plt_hmf_dndm():\n",
    "   print(\"Status: Calculating height and with of mass histogarm\")\n",
    "   hght, binedge = np.histogram(halo_mass, bins=np.logspace(np.log10(0.5*10**11),np.log10(0.5*10**13), 50))\n",
    "\n",
    "   print(\"Status: Calculating the mass function\")\n",
    "   bin_centers = []\n",
    "   for i in range (len(binedge)-1):\n",
    "      bin_centers.append(np.sqrt(binedge[i+1]*binedge[i]))\n",
    "   \n",
    "   binsize = []\n",
    "   for i in range (len(binedge)-1):\n",
    "      binsize.append(binedge[i+1]-binedge[i])\n",
    "   \n",
    "   newhght = []\n",
    "   for i in range(len(hght)):              \n",
    "      newhght.append(hght[i]/(binsize[i]*volume))\n",
    "   #error=np.sqrt(newhght)\n",
    "   #hght = hght/binedge\n",
    "   \n",
    "   plt.figure(figsize=(10,10))\n",
    "   plt.scatter(bin_centers,newhght,s=10)\n",
    "   plt.loglog(hmf.m,hmf.dndm)\n",
    "   #plt.errorbar(bin_centers, newhght, yerr=error)\n",
    "   plt.title(redshift +' dn_Vdm')\n",
    "   plt.xlabel(\"$m$\")\n",
    "   plt.ylabel('$\\dfrac{dn}{Vdm}$')\n",
    "   plt.xscale('log')\n",
    "   plt.yscale('log')\n",
    "   plt.xlim((0.5*10**11,10**13))\n",
    "   plt.ylim((0.5*10**-22,10**-11))\n",
    "   plt.savefig(redshift +'_dn_Vdm_'+ str(startfile) + '_' + str(endfile) + \"_hmf.jpg\")"
   ]
  },
  {
   "cell_type": "code",
   "execution_count": null,
   "metadata": {},
   "outputs": [],
   "source": [
    "#Error\n",
    "def error()\n",
    "    print(len(hmf.m))\n",
    "    print(len(hmf.dndlnm))\n",
    "    newhmf = np.interp(bin_centers,hmf.m,hmf.dndlnm)\n",
    "    print(newhmf)\n",
    "    print(len(bin_centers))\n",
    "\n",
    "    error = []\n",
    "    for i in range(len(bin_centers)):\n",
    "        error.append(((newhmf-newhght)*100)/newhmf)\n",
    "    print(len(error))\n",
    "    print(newhght)\n",
    "    print(len(error))\n",
    "    plt.plot(bin_centers, error)"
   ]
  },
  {
   "cell_type": "code",
   "execution_count": null,
   "metadata": {},
   "outputs": [],
   "source": []
  }
 ],
 "metadata": {
  "interpreter": {
   "hash": "44ca10f8e85facd70a8d6e25a789dd395faa8ff051c37c4f4ab4ea8a6be2a103"
  },
  "kernelspec": {
   "display_name": "Python 3.9.7 ('base')",
   "language": "python",
   "name": "python3"
  },
  "language_info": {
   "codemirror_mode": {
    "name": "ipython",
    "version": 3
   },
   "file_extension": ".py",
   "mimetype": "text/x-python",
   "name": "python",
   "nbconvert_exporter": "python",
   "pygments_lexer": "ipython3",
   "version": "3.9.7"
  },
  "orig_nbformat": 4
 },
 "nbformat": 4,
 "nbformat_minor": 2
}
